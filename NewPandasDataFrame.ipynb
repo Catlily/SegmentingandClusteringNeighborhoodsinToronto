{
 "cells": [
  {
   "cell_type": "markdown",
   "metadata": {},
   "source": [
    "Install ipynb to import dataframe 'df' from other notebook in Jupyter "
   ]
  },
  {
   "cell_type": "code",
   "execution_count": 1,
   "metadata": {},
   "outputs": [
    {
     "name": "stdout",
     "output_type": "stream",
     "text": [
      "Requirement already satisfied: ipynb in /anaconda3/lib/python3.7/site-packages (0.5.1)\n"
     ]
    }
   ],
   "source": [
    "!pip install ipynb"
   ]
  },
  {
   "cell_type": "code",
   "execution_count": 4,
   "metadata": {},
   "outputs": [],
   "source": [
    "import geocoder\n",
    "from ipynb.fs.full.PandasDataFrame import df"
   ]
  },
  {
   "cell_type": "markdown",
   "metadata": {},
   "source": [
    "Length of the rows"
   ]
  },
  {
   "cell_type": "code",
   "execution_count": 5,
   "metadata": {},
   "outputs": [],
   "source": [
    "length = len(df)\n",
    "\n",
    "postal_code = df.loc[:,'Postcode']"
   ]
  },
  {
   "cell_type": "markdown",
   "metadata": {},
   "source": [
    "Initialize your variable to None"
   ]
  },
  {
   "cell_type": "code",
   "execution_count": 6,
   "metadata": {},
   "outputs": [],
   "source": [
    "lat_lng_coords = [None] * length\n",
    "latitude = []\n",
    "longitude = []"
   ]
  },
  {
   "cell_type": "markdown",
   "metadata": {},
   "source": [
    "Loop until you get the coordinates"
   ]
  },
  {
   "cell_type": "code",
   "execution_count": 7,
   "metadata": {},
   "outputs": [
    {
     "name": "stdout",
     "output_type": "stream",
     "text": [
      "  Postcode      Borough                         Neighbourhood   Latitude  \\\n",
      "0      M1B  Scarborough                         Rouge,Malvern  43.811525   \n",
      "1      M1C  Scarborough  Highland Creek,Rouge Hill,Port Union  43.785730   \n",
      "2      M1E  Scarborough       Guildwood,Morningside,West Hill  43.765690   \n",
      "3      M1G  Scarborough                                Woburn  43.768359   \n",
      "4      M1H  Scarborough                             Cedarbrae  43.769688   \n",
      "\n",
      "   Longitude  \n",
      "0 -79.195517  \n",
      "1 -79.158750  \n",
      "2 -79.175256  \n",
      "3 -79.217590  \n",
      "4 -79.239440  \n"
     ]
    }
   ],
   "source": [
    "i=0\n",
    "while(lat_lng_coords[i] is None) and (i<length):\n",
    "    g = geocoder.arcgis('{}, Toronto, Ontario'.format(postal_code[i]))\n",
    "    lat_lng_coords[i] = tuple(g.latlng)\n",
    "    latitude.append(lat_lng_coords[i][0])\n",
    "    longitude.append(lat_lng_coords[i][1])\n",
    "    i = i + 1\n",
    "    if i == 103:\n",
    "        break\n",
    "\n",
    "df['Latitude'] = latitude\n",
    "df['Longitude'] = longitude\n",
    "print(df.head())"
   ]
  },
  {
   "cell_type": "code",
   "execution_count": null,
   "metadata": {},
   "outputs": [],
   "source": []
  }
 ],
 "metadata": {
  "kernelspec": {
   "display_name": "Python 3",
   "language": "python",
   "name": "python3"
  },
  "language_info": {
   "codemirror_mode": {
    "name": "ipython",
    "version": 3
   },
   "file_extension": ".py",
   "mimetype": "text/x-python",
   "name": "python",
   "nbconvert_exporter": "python",
   "pygments_lexer": "ipython3",
   "version": "3.7.1"
  }
 },
 "nbformat": 4,
 "nbformat_minor": 2
}
