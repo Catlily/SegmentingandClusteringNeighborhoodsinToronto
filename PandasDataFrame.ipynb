{
 "cells": [
  {
   "cell_type": "markdown",
   "metadata": {},
   "source": [
    "Import libraries and modules"
   ]
  },
  {
   "cell_type": "code",
   "execution_count": 1,
   "metadata": {},
   "outputs": [],
   "source": [
    "from bs4 import BeautifulSoup\n",
    "import requests \n",
    "import pandas as pd"
   ]
  },
  {
   "cell_type": "markdown",
   "metadata": {},
   "source": [
    "Get the data and use BeautifulSoup to create a beautifulsoup object"
   ]
  },
  {
   "cell_type": "code",
   "execution_count": 2,
   "metadata": {},
   "outputs": [],
   "source": [
    "source = requests.get('https://en.wikipedia.org/wiki/List_of_postal_codes_of_Canada:_M').text\n",
    "\n",
    "BS = BeautifulSoup(source, 'lxml')"
   ]
  },
  {
   "cell_type": "markdown",
   "metadata": {},
   "source": [
    "Create Pandas framework "
   ]
  },
  {
   "cell_type": "code",
   "execution_count": 6,
   "metadata": {},
   "outputs": [
    {
     "name": "stdout",
     "output_type": "stream",
     "text": [
      "  Postcode      Borough                         Neighbourhood\n",
      "0      M1B  Scarborough                         Rouge,Malvern\n",
      "1      M1C  Scarborough  Highland Creek,Rouge Hill,Port Union\n",
      "2      M1E  Scarborough       Guildwood,Morningside,West Hill\n",
      "3      M1G  Scarborough                                Woburn\n",
      "4      M1H  Scarborough                             Cedarbrae\n"
     ]
    }
   ],
   "source": [
    "dfs = pd.read_html(str(BS.table), header=0)\n",
    "\n",
    "df = dfs[0]\n",
    "\n",
    "#delete rows with assignment 'Not assigned' in 'Borough'\n",
    "df = df[df.Borough != 'Not assigned'] \n",
    "\n",
    "#replace assignment 'Not assigned' in 'Neighbourhood' replaced with assignment of 'Borough'\n",
    "df = df.groupby(by=['Postcode','Borough'])['Neighbourhood'].apply(','.join).reset_index() \n",
    "\n",
    "for i, item in enumerate(df.Neighbourhood):\n",
    "    if item == 'Not assigned':\n",
    "        df.Neighbourhood[i] = df.Borough[i]\n",
    "        \n",
    "print(df.head())"
   ]
  },
  {
   "cell_type": "code",
   "execution_count": null,
   "metadata": {},
   "outputs": [],
   "source": []
  }
 ],
 "metadata": {
  "kernelspec": {
   "display_name": "Python 3",
   "language": "python",
   "name": "python3"
  },
  "language_info": {
   "codemirror_mode": {
    "name": "ipython",
    "version": 3
   },
   "file_extension": ".py",
   "mimetype": "text/x-python",
   "name": "python",
   "nbconvert_exporter": "python",
   "pygments_lexer": "ipython3",
   "version": "3.7.1"
  }
 },
 "nbformat": 4,
 "nbformat_minor": 2
}
